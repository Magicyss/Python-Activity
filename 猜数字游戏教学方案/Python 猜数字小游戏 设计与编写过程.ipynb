{
 "cells": [
  {
   "cell_type": "markdown",
   "metadata": {},
   "source": [
    "# Python 猜数字小游戏 设计与编写过程"
   ]
  },
  {
   "cell_type": "markdown",
   "metadata": {},
   "source": [
    "我们首先理解编程在做什么。\n",
    "可以说就是将我们设计的一个个步骤用代码表述出来。\n",
    "那我们来设计一个猜数字的程序。\n",
    "首先我们需要一个随机生成出来的数字，然后用户输入一个数，判断对错，屏幕打印出结果。\n",
    "那么怎么产生随机的数呢？这里需要用到一个第三方库"
   ]
  },
  {
   "cell_type": "code",
   "execution_count": 2,
   "metadata": {},
   "outputs": [
    {
     "data": {
      "text/plain": [
       "3"
      ]
     },
     "execution_count": 2,
     "metadata": {},
     "output_type": "execute_result"
    }
   ],
   "source": [
    "import random\n",
    "random.randint(0,5)"
   ]
  },
  {
   "cell_type": "code",
   "execution_count": 3,
   "metadata": {},
   "outputs": [
    {
     "data": {
      "text/plain": [
       "1"
      ]
     },
     "execution_count": 3,
     "metadata": {},
     "output_type": "execute_result"
    }
   ],
   "source": [
    "answer=random.randint(0,5)#左闭右闭\n",
    "answer"
   ]
  },
  {
   "cell_type": "code",
   "execution_count": 4,
   "metadata": {},
   "outputs": [
    {
     "name": "stdout",
     "output_type": "stream",
     "text": [
      "请输入你的猜测，范围大于等于0，小于等于5:4\n",
      "很遗憾，你猜错了\n"
     ]
    }
   ],
   "source": [
    "guess=eval(input(\"请输入你的猜测，范围大于等于0，小于等于5:\"))\n",
    "if guess == answer:\n",
    "    print(\"恭喜你猜对了\")\n",
    "else:\n",
    "    print(\"很遗憾，你猜错了\")"
   ]
  },
  {
   "cell_type": "code",
   "execution_count": 5,
   "metadata": {},
   "outputs": [
    {
     "name": "stdout",
     "output_type": "stream",
     "text": [
      "请输入你的猜测，范围大于等于0，小于等于5:\n",
      "4\n",
      "很遗憾，你猜错了\n"
     ]
    }
   ],
   "source": [
    "#发现我们输入的3和提示中的5混在一起，太难看了，所以是不是可以适当改一下？\n",
    "guess=eval(input(\"请输入你的猜测，范围大于等于0，小于等于5:\\n\"))\n",
    "if guess == answer:\n",
    "    print(\"恭喜你猜对了\")\n",
    "else:\n",
    "    print(\"很遗憾，你猜错了\")"
   ]
  },
  {
   "cell_type": "code",
   "execution_count": 6,
   "metadata": {},
   "outputs": [
    {
     "name": "stdout",
     "output_type": "stream",
     "text": [
      "请输入你的猜测，范围大于等于0，小于等于5:\n",
      "4\n",
      "很遗憾，你猜大了\n"
     ]
    }
   ],
   "source": [
    "guess=eval(input(\"请输入你的猜测，范围大于等于0，小于等于5:\\n\"))\n",
    "if guess == answer:\n",
    "    print(\"恭喜你猜对了\")\n",
    "elif guess > answer:\n",
    "    print(\"很遗憾，你猜大了\")\n",
    "else:\n",
    "    print(\"很遗憾，你猜小了\")"
   ]
  },
  {
   "cell_type": "code",
   "execution_count": 7,
   "metadata": {},
   "outputs": [
    {
     "name": "stdout",
     "output_type": "stream",
     "text": [
      "你总共有5次猜测的机会，范围大于等于0，小于等于5\n",
      "请输入你的第1次猜测:\n",
      "4\n",
      "很遗憾，你猜大了\n",
      "请输入你的第2次猜测:\n",
      "4\n",
      "很遗憾，你猜大了\n",
      "请输入你的第3次猜测:\n",
      "4\n",
      "很遗憾，你猜大了\n",
      "请输入你的第4次猜测:\n",
      "4\n",
      "很遗憾，你猜大了\n",
      "请输入你的第5次猜测:\n",
      "42\n",
      "很遗憾，你猜大了\n"
     ]
    }
   ],
   "source": [
    "#接下来我们希望可以再多几次猜测的机会，比如我们设置可以猜测五次\n",
    "print(\"你总共有5次猜测的机会，范围大于等于0，小于等于5\")\n",
    "for i in range(5):\n",
    "    guess=eval(input(\"请输入你的第{}次猜测:\\n\".format(i+1)))\n",
    "    if guess == answer:\n",
    "        print(\"恭喜你猜对了\")\n",
    "    elif guess > answer:\n",
    "        print(\"很遗憾，你猜大了\")\n",
    "    else:\n",
    "        print(\"很遗憾，你猜小了\")"
   ]
  },
  {
   "cell_type": "code",
   "execution_count": 8,
   "metadata": {
    "code_folding": []
   },
   "outputs": [
    {
     "name": "stdout",
     "output_type": "stream",
     "text": [
      "你总共有5次猜测的机会，范围大于等于0，小于等于5\n",
      "请输入你的第1次猜测:\n",
      "4\n",
      "很遗憾，你猜大了\n",
      "请输入你的第2次猜测:\n",
      "2\n",
      "很遗憾，你猜大了\n",
      "请输入你的第3次猜测:\n",
      "1\n",
      "恭喜你猜对了\n"
     ]
    }
   ],
   "source": [
    "#这里就发现了一个问题，我们猜对了，\n",
    "#但是程序还在让我们继续猜，这是不合理的，\n",
    "#属于设计上的一个bug，所以我们考虑修正一下\n",
    "print(\"你总共有5次猜测的机会，范围大于等于0，小于等于5\")\n",
    "for i in range(5):\n",
    "    guess=eval(input(\"请输入你的第{}次猜测:\\n\".format(i+1)))\n",
    "    if guess == answer:\n",
    "        print(\"恭喜你猜对了\")\n",
    "        break\n",
    "    elif guess > answer:\n",
    "        print(\"很遗憾，你猜大了\")\n",
    "    else:\n",
    "        print(\"很遗憾，你猜小了\")"
   ]
  },
  {
   "cell_type": "code",
   "execution_count": 10,
   "metadata": {},
   "outputs": [
    {
     "name": "stdout",
     "output_type": "stream",
     "text": [
      "猜测的范围大于等于0，小于等于5\n",
      "请输入你的第1次猜测:\n",
      "2\n",
      "很遗憾，你猜大了\n",
      "请输入你的第2次猜测:\n",
      "3\n",
      "很遗憾，你猜大了\n",
      "请输入你的第3次猜测:\n",
      "4\n",
      "很遗憾，你猜大了\n",
      "请输入你的第4次猜测:\n",
      "5\n",
      "很遗憾，你猜大了\n",
      "请输入你的第5次猜测:\n",
      "6\n",
      "很遗憾，你猜大了\n",
      "请输入你的第6次猜测:\n",
      "7\n",
      "很遗憾，你猜大了\n",
      "请输入你的第7次猜测:\n",
      "0\n",
      "很遗憾，你猜小了\n",
      "请输入你的第8次猜测:\n",
      "1\n",
      "恭喜你猜对了\n"
     ]
    }
   ],
   "source": [
    "'''\n",
    "实际上我们考虑一下真实的猜谜语或者猜数字的游戏，\n",
    "是一般没有游戏次数限制的，所以我们应该有一种\n",
    "没有次数限制的游戏版本\n",
    "这里需要用到while循环\n",
    "'''\n",
    "print(\"猜测的范围大于等于0，小于等于5\")\n",
    "i=0\n",
    "while(True):\n",
    "    guess=eval(input(\"请输入你的第{}次猜测:\\n\".format(i+1)))\n",
    "    if guess == answer:\n",
    "        print(\"恭喜你猜对了\")\n",
    "        break\n",
    "    elif guess > answer:\n",
    "        print(\"很遗憾，你猜大了\")\n",
    "    else:\n",
    "        print(\"很遗憾，你猜小了\")\n",
    "    i+=1"
   ]
  },
  {
   "cell_type": "code",
   "execution_count": 12,
   "metadata": {},
   "outputs": [
    {
     "name": "stdout",
     "output_type": "stream",
     "text": [
      "猜测的范围大于等于0，小于等于5\n",
      "请输入你的第1次猜测:\n",
      "3\n",
      "请输入你的第2次猜测:\n",
      "4\n",
      "很遗憾，你猜大了\n",
      "请输入你的第3次猜测:\n",
      "5\n",
      "很遗憾，你猜大了\n",
      "请输入你的第4次猜测:\n",
      "2\n",
      "很遗憾，你猜大了\n",
      "请输入你的第5次猜测:\n",
      "1\n",
      "很遗憾，你猜小了\n",
      "恭喜你猜对了\n"
     ]
    }
   ],
   "source": [
    "'''\n",
    "这里虽然可以实现了，但是其实\n",
    "还有另一种方法来实现\n",
    "'''\n",
    "print(\"猜测的范围大于等于0，小于等于5\")\n",
    "guess=eval(input(\"请输入你的第1次猜测:\\n\"))\n",
    "i=2\n",
    "while(guess != answer):\n",
    "    guess=eval(input(\"请输入你的第{}次猜测:\\n\".format(i)))\n",
    "    if guess > answer:\n",
    "        print(\"很遗憾，你猜大了\")\n",
    "    else:\n",
    "        print(\"很遗憾，你猜小了\")\n",
    "    i+=1\n",
    "print(\"恭喜你猜对了\")"
   ]
  },
  {
   "cell_type": "code",
   "execution_count": 2,
   "metadata": {},
   "outputs": [
    {
     "name": "stdout",
     "output_type": "stream",
     "text": [
      "本程序共有两种模式\n",
      "***********************************\n",
      "1.进行5次猜测\n",
      "2.进行无尽猜测模式\n",
      "***********************************\n",
      "0.退出游戏\n",
      "请输入你想玩的模式前的编号：\n",
      "2\n",
      "猜测的范围大于等于0，小于等于5\n",
      "请输入你的第1次猜测:\n",
      "1\n",
      "很遗憾，你猜大了\n",
      "请输入你的第2次猜测:\n",
      "3\n",
      "很遗憾，你猜大了\n",
      "请输入你的第3次猜测:\n",
      "0\n",
      "恭喜你猜对了\n",
      "本程序共有两种模式\n",
      "***********************************\n",
      "1.进行5次猜测\n",
      "2.进行无尽猜测模式\n",
      "***********************************\n",
      "0.退出游戏\n",
      "请输入你想玩的模式前的编号：\n",
      "0\n",
      "\n",
      "\n",
      "\n"
     ]
    }
   ],
   "source": [
    "'''\n",
    "接下来我们来吧前面两个功能放在一起\n",
    "做一个可以自由切换的小程序\n",
    "'''\n",
    "import random\n",
    "while(True):\n",
    "    answer=random.randint(0,5)\n",
    "    print(\"本程序共有两种模式\")\n",
    "    print(\"***********************************\")\n",
    "    print(\"1.进行5次猜测\")\n",
    "    print(\"2.进行无尽猜测模式\")\n",
    "    print(\"***********************************\")\n",
    "    print(\"0.退出游戏\")\n",
    "    selection=eval(input(\"请输入你想玩的模式前的编号：\\n\"))\n",
    "    if(selection==1):\n",
    "        print(\"你总共有5次猜测的机会，范围大于等于0，小于等于5\")\n",
    "        for i in range(5):\n",
    "            guess=eval(input(\"请输入你的第{}次猜测:\\n\".format(i+1)))\n",
    "            if guess == answer:\n",
    "                print(\"恭喜你猜对了\\n\")\n",
    "                break\n",
    "            elif guess > answer:\n",
    "                print(\"很遗憾，你猜大了\")\n",
    "            else:\n",
    "                print(\"很遗憾，你猜小了\")\n",
    "    elif selection==2:\n",
    "        print(\"猜测的范围大于等于0，小于等于5\")\n",
    "        i=0\n",
    "        while(True):\n",
    "            guess=eval(input(\"请输入你的第{}次猜测:\\n\".format(i+1)))\n",
    "            if guess == answer:\n",
    "                print(\"恭喜你猜对了\\n\")\n",
    "                break\n",
    "            elif guess > answer:\n",
    "                print(\"很遗憾，你猜大了\")\n",
    "            else:\n",
    "                print(\"很遗憾，你猜小了\")\n",
    "            i+=1\n",
    "    else:\n",
    "        break"
   ]
  },
  {
   "cell_type": "code",
   "execution_count": 1,
   "metadata": {},
   "outputs": [
    {
     "name": "stdout",
     "output_type": "stream",
     "text": [
      "本程序共有两种模式\n",
      "***********************************\n",
      "1.进行5次猜测\n",
      "2.进行无尽猜测模式\n",
      "***********************************\n",
      "0.退出游戏\n",
      "请输入你想玩的模式前的编号：\n",
      "0\n"
     ]
    }
   ],
   "source": [
    "'''\n",
    "我们可以看到代码有两段是完全重复的，\n",
    "这里可以设计一个模块即函数，来简化代码\n",
    "这里采用了while循环代替了for循环，然后利用了Python的默认参数的性质\n",
    "'''\n",
    "def guess(answer, flag=7):\n",
    "    i = 1\n",
    "    while (i != 6 or flag != 6):\n",
    "        guess = eval(input(\"请输入你的第{}次猜测:\\n\".format(i)))\n",
    "        if guess == answer:\n",
    "            print(\"恭喜你猜对了\\n\")\n",
    "            return\n",
    "        elif guess > answer:\n",
    "            print(\"很遗憾，你猜大了\")\n",
    "        else:\n",
    "            print(\"很遗憾，你猜小了\")\n",
    "        i+=1\n",
    "        flag+=1\n",
    "    print(\"很遗憾，你没有猜出正确答案，正确答案是：{}\".format(answer))\n",
    "\n",
    "\n",
    "import random\n",
    "while (True):\n",
    "    answer = random.randint(0, 5)\n",
    "    print(\"本程序共有两种模式\")\n",
    "    print(\"***********************************\")\n",
    "    print(\"1.进行5次猜测\")\n",
    "    print(\"2.进行无尽猜测模式\")\n",
    "    print(\"***********************************\")\n",
    "    print(\"0.退出游戏\")\n",
    "    selection = eval(input(\"请输入你想玩的模式前的编号：\\n\"))\n",
    "    if (selection == 1):\n",
    "        print(\"你总共有5次猜测的机会，范围大于等于0，小于等于5\")\n",
    "        guess(answer, 1)\n",
    "    elif selection == 2:\n",
    "        print(\"猜测的范围大于等于0，小于等于5\")\n",
    "        guess(answer)\n",
    "    else:\n",
    "        break"
   ]
  }
 ],
 "metadata": {
  "kernelspec": {
   "display_name": "Python 3",
   "language": "python",
   "name": "python3"
  },
  "language_info": {
   "codemirror_mode": {
    "name": "ipython",
    "version": 3
   },
   "file_extension": ".py",
   "mimetype": "text/x-python",
   "name": "python",
   "nbconvert_exporter": "python",
   "pygments_lexer": "ipython3",
   "version": "3.7.4"
  }
 },
 "nbformat": 4,
 "nbformat_minor": 2
}
